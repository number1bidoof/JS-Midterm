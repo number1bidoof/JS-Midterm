{
 "cells": [
  {
   "cell_type": "markdown",
   "id": "36ecdac8-4451-485b-9286-5c7003fa16ed",
   "metadata": {},
   "source": [
    "# Important Information\n",
    "If you ever took Mrs.Kubiks class, this is going to look __somewhat__ simular, Part of our exam is a code practical, so this can help with that.\n",
    "\n",
    "Except for the error handling unit, most of the units will be covered in this notebook, __All code examples__ will also be hosted on _Github_, which I will also share out with the class\n",
    "\n",
    "This is going to be the __solutions__ notebook, including explations for each code examples, so you can be able to understand **JS at ease**\n",
    "\n",
    "Both the __solutions__ & __practice__ Notebooks are hosted on *Jupyter Notebook* using *Deno*, a JS runtime that allows you to run **JS without a HTML file**, I figured it would be easier to host it when its integrated in *Jupyter Notebook*, then have 3 million *HTML,JS & CSS* files. \n",
    "\n",
    "If you want to learn more about deno here is the [link](https://deno.com/), I found it very helpful for running **JS** without a HTML file. So check it out if you are intrested in devleoping in JS as a framework.\n",
    "\n",
    "This is the **solutions** Notebook, meaning there is going to be solutions with each code snippet, along with a short explanation signifed by comments, and sometimes multline comments\n",
    "\n",
    "## Good Luck on the Midterm :)"
   ]
  },
  {
   "cell_type": "markdown",
   "id": "7c167979-8c6f-4d3e-828d-9f11ef9500d7",
   "metadata": {},
   "source": [
    "### Create a variable with all keywords and display them all in the console, then change each varrible with another value and print out using `console.log`"
   ]
  },
  {
   "cell_type": "code",
   "execution_count": 6,
   "id": "3e1ebdd3-937a-46bd-9989-40024c6e8df8",
   "metadata": {},
   "outputs": [
    {
     "name": "stdout",
     "output_type": "stream",
     "text": [
      "Hello World\n",
      "Sarah own a Cat\n",
      "John owns a Dog\n",
      "David owns a Bunny\n",
      "Addison owns all three, a Cat, Dog and a Bunny\n",
      "Ryan own a Fish\n",
      "Eric owns a Dog\n",
      "Mary owns a Parrot\n",
      "Heather owns all three, a Fish, Dog and a Parrot\n"
     ]
    }
   ],
   "source": [
    "console.log(\"Hello World\");\n",
    "let cat = \"Cat\" //let is the most common, it can be changed\n",
    "const dog = \"Dog\" //const is short for constant, it cannot be changed throguhout the code\n",
    "var bunny = \"Bunny\" //var is legacy and is not used commonly, avoid using it unless with older browsers\n",
    "console.log(`Sarah own a ${cat}`);\n",
    "console.log(`John owns a ${dog}`);\n",
    "console.log(`David owns a ${bunny}`);\n",
    "console.log(`Addison owns all three, a ${cat}, ${dog} and a ${bunny}`);\n",
    "cat = \"Fish\";\n",
    "//dog = \"Horse\" gives a type error, const cannot be set to another value\n",
    "bunny = \"Parrot\";\n",
    "console.log(`Ryan own a ${cat}`);\n",
    "console.log(`Eric owns a ${dog}`);\n",
    "console.log(`Mary owns a ${bunny}`);\n",
    "console.log(`Heather owns all three, a ${cat}, ${dog} and a ${bunny}`);"
   ]
  },
  {
   "cell_type": "markdown",
   "id": "495162e1-0868-4c78-b135-252336cc9961",
   "metadata": {},
   "source": [
    "### Create an Empty HTML Document with a empty`<p>` tag with a `id = myName`, then using a assigment opperator to assign you name to the id in JS, then make an alert saying `This is my midterm review in JS`"
   ]
  },
  {
   "cell_type": "code",
   "execution_count": 11,
   "id": "e8b40ba9-11f0-4c9b-a7d4-18024afab37f",
   "metadata": {},
   "outputs": [],
   "source": [
    "alert(\"This is my midterm review in JS\"); //Since we are using Deno as a framework, there is no mention to the document nor window\n",
    "/* document.getElementById(\"myName\").innerHTML = \"Ayah\"\n",
    "or \n",
    "document.getElementById(\"myName\").textContet = \"Ayah\"\n",
    "*/\n"
   ]
  },
  {
   "cell_type": "code",
   "execution_count": null,
   "id": "2e91eb16-3d29-409b-ae1b-3892f92fcb7c",
   "metadata": {},
   "outputs": [],
   "source": []
  },
  {
   "cell_type": "code",
   "execution_count": null,
   "id": "51d57e91-4256-4c3f-9f74-286dc8df443c",
   "metadata": {},
   "outputs": [],
   "source": []
  },
  {
   "cell_type": "markdown",
   "id": "ca08a478-e423-496b-a210-8c888e0b3f0d",
   "metadata": {},
   "source": [
    "![Image of Yaktocat](https://miro.medium.com/v2/resize:fit:1400/format:webp/1*Lq2UGOudjDsPyzNFtHXr2Q.png)"
   ]
  }
 ],
 "metadata": {
  "kernelspec": {
   "display_name": "Deno",
   "language": "typescript",
   "name": "deno"
  },
  "language_info": {
   "codemirror_mode": "typescript",
   "file_extension": ".ts",
   "mimetype": "text/x.typescript",
   "name": "typescript",
   "nbconvert_exporter": "script",
   "pygments_lexer": "typescript",
   "version": "5.7.3"
  }
 },
 "nbformat": 4,
 "nbformat_minor": 5
}
